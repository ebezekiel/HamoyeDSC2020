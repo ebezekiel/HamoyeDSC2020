{
  "nbformat": 4,
  "nbformat_minor": 0,
  "metadata": {
    "kernelspec": {
      "display_name": "Python 3",
      "language": "python",
      "name": "python3"
    },
    "language_info": {
      "codemirror_mode": {
        "name": "ipython",
        "version": 3
      },
      "file_extension": ".py",
      "mimetype": "text/x-python",
      "name": "python",
      "nbconvert_exporter": "python",
      "pygments_lexer": "ipython3",
      "version": "3.7.3"
    },
    "colab": {
      "name": "HDSC Stage B_ ebenezer ezekiel.ipynb",
      "provenance": []
    }
  },
  "cells": [
    {
      "cell_type": "markdown",
      "metadata": {
        "id": "Uc6lURCa72q0",
        "colab_type": "text"
      },
      "source": [
        "DEAR HAMOYE ADMIN AND THE HAMOYE TEAM, \n",
        "\n",
        "I HAD REASON TO RESTART MY COMPUTER BEFORE THE COMPLETION OF THE QUIZ. I LOGGED INTO THE PLATFORM ONLY TO REALIZE THAT THE ORDER OF THE QUESTIONS HAD BEEN CHANGED, ANSWERING THE REMAINDER OF THE QUESTIONS THEN BECAME CHALLEGING BECAUSE I DID NOT KNOW WHICH TO ANSWER NEXT AND THE INSTRUCTION TO FOLLOW.\n",
        "\n",
        "PLEASE I NEED YOU HELP ON THIS. THANK YOU\n"
      ]
    },
    {
      "cell_type": "code",
      "metadata": {
        "id": "LruJlyxF0K4P",
        "colab_type": "code",
        "colab": {
          "base_uri": "https://localhost:8080/",
          "height": 72
        },
        "outputId": "eea5e152-076e-4d82-a6e5-6e7a888940f0"
      },
      "source": [
        "import pandas as pd\n",
        "import numpy as np\n",
        "import seaborn as sns\n",
        "import matplotlib.pyplot as plt\n",
        "from sklearn.metrics import mean_squared_error as mse, mean_absolute_error as mae, r2_score\n",
        "from sklearn.preprocessing import MinMaxScaler\n",
        "from sklearn.linear_model import Ridge, Lasso\n",
        "from sklearn.model_selection import train_test_split, GridSearchCV\n"
      ],
      "execution_count": 1,
      "outputs": [
        {
          "output_type": "stream",
          "text": [
            "/usr/local/lib/python3.6/dist-packages/statsmodels/tools/_testing.py:19: FutureWarning: pandas.util.testing is deprecated. Use the functions in the public API at pandas.testing instead.\n",
            "  import pandas.util.testing as tm\n"
          ],
          "name": "stderr"
        }
      ]
    },
    {
      "cell_type": "code",
      "metadata": {
        "id": "wVqqlw5U71Gr",
        "colab_type": "code",
        "colab": {}
      },
      "source": [
        ""
      ],
      "execution_count": null,
      "outputs": []
    },
    {
      "cell_type": "code",
      "metadata": {
        "id": "wUwvpOBH0K4d",
        "colab_type": "code",
        "colab": {}
      },
      "source": [
        "from sklearn.metrics import r2_score"
      ],
      "execution_count": null,
      "outputs": []
    },
    {
      "cell_type": "code",
      "metadata": {
        "id": "12A0xDTI0K4m",
        "colab_type": "code",
        "colab": {}
      },
      "source": [
        "df = pd.read_csv('https://archive.ics.uci.edu/ml/machine-learning-databases/00374/energydata_complete.csv')"
      ],
      "execution_count": 2,
      "outputs": []
    },
    {
      "cell_type": "code",
      "metadata": {
        "id": "jK0frHEO0K4w",
        "colab_type": "code",
        "colab": {
          "base_uri": "https://localhost:8080/",
          "height": 656
        },
        "outputId": "49213d1a-84fe-46fd-9ea3-42337e1a6f1c"
      },
      "source": [
        "df.info()"
      ],
      "execution_count": 3,
      "outputs": [
        {
          "output_type": "stream",
          "text": [
            "<class 'pandas.core.frame.DataFrame'>\n",
            "RangeIndex: 19735 entries, 0 to 19734\n",
            "Data columns (total 29 columns):\n",
            " #   Column       Non-Null Count  Dtype  \n",
            "---  ------       --------------  -----  \n",
            " 0   date         19735 non-null  object \n",
            " 1   Appliances   19735 non-null  int64  \n",
            " 2   lights       19735 non-null  int64  \n",
            " 3   T1           19735 non-null  float64\n",
            " 4   RH_1         19735 non-null  float64\n",
            " 5   T2           19735 non-null  float64\n",
            " 6   RH_2         19735 non-null  float64\n",
            " 7   T3           19735 non-null  float64\n",
            " 8   RH_3         19735 non-null  float64\n",
            " 9   T4           19735 non-null  float64\n",
            " 10  RH_4         19735 non-null  float64\n",
            " 11  T5           19735 non-null  float64\n",
            " 12  RH_5         19735 non-null  float64\n",
            " 13  T6           19735 non-null  float64\n",
            " 14  RH_6         19735 non-null  float64\n",
            " 15  T7           19735 non-null  float64\n",
            " 16  RH_7         19735 non-null  float64\n",
            " 17  T8           19735 non-null  float64\n",
            " 18  RH_8         19735 non-null  float64\n",
            " 19  T9           19735 non-null  float64\n",
            " 20  RH_9         19735 non-null  float64\n",
            " 21  T_out        19735 non-null  float64\n",
            " 22  Press_mm_hg  19735 non-null  float64\n",
            " 23  RH_out       19735 non-null  float64\n",
            " 24  Windspeed    19735 non-null  float64\n",
            " 25  Visibility   19735 non-null  float64\n",
            " 26  Tdewpoint    19735 non-null  float64\n",
            " 27  rv1          19735 non-null  float64\n",
            " 28  rv2          19735 non-null  float64\n",
            "dtypes: float64(26), int64(2), object(1)\n",
            "memory usage: 4.4+ MB\n"
          ],
          "name": "stdout"
        }
      ]
    },
    {
      "cell_type": "code",
      "metadata": {
        "scrolled": true,
        "id": "HFaWHlXb0K43",
        "colab_type": "code",
        "colab": {}
      },
      "source": [
        "scaler = MinMaxScaler()\n",
        "data = df.drop(columns = ['date', 'lights'])\n",
        "\n",
        "normalised_data = pd.DataFrame(scaler.fit_transform(data), columns = data.columns)\n",
        "\n",
        "features = normalised_data.drop(columns = ['Appliances'])\n",
        "target =  normalised_data[['Appliances']]"
      ],
      "execution_count": 4,
      "outputs": []
    },
    {
      "cell_type": "code",
      "metadata": {
        "id": "T6tLqI120K4-",
        "colab_type": "code",
        "colab": {}
      },
      "source": [
        "X_train, X_test, y_train, y_test = train_test_split(features, target, test_size = 0.3, random_state = 42)"
      ],
      "execution_count": 5,
      "outputs": []
    },
    {
      "cell_type": "code",
      "metadata": {
        "id": "1eiaaPzk0K5F",
        "colab_type": "code",
        "colab": {}
      },
      "source": [
        "model = Ridge()\n",
        "model.fit(X_train, y_train)\n",
        "\n",
        "pred = model.predict(X_test)"
      ],
      "execution_count": 6,
      "outputs": []
    },
    {
      "cell_type": "code",
      "metadata": {
        "id": "QL3BWlQP0K5P",
        "colab_type": "code",
        "colab": {
          "base_uri": "https://localhost:8080/",
          "height": 34
        },
        "outputId": "3b63ee56-8afb-45c0-f6c0-0c898e783c78"
      },
      "source": [
        "mean_squared_error_ =  round(mse(y_test, pred),3)\n",
        "mean_squared_error_"
      ],
      "execution_count": 9,
      "outputs": [
        {
          "output_type": "execute_result",
          "data": {
            "text/plain": [
              "0.008"
            ]
          },
          "metadata": {
            "tags": []
          },
          "execution_count": 9
        }
      ]
    },
    {
      "cell_type": "code",
      "metadata": {
        "id": "iyhM5wMO0K5V",
        "colab_type": "code",
        "colab": {}
      },
      "source": [
        ""
      ],
      "execution_count": null,
      "outputs": []
    },
    {
      "cell_type": "markdown",
      "metadata": {
        "id": "qGsTjZYo0K5b",
        "colab_type": "text"
      },
      "source": [
        "### Question 12"
      ]
    },
    {
      "cell_type": "code",
      "metadata": {
        "id": "TC2zMc3p0K5d",
        "colab_type": "code",
        "colab": {}
      },
      "source": [
        "model_2 = Ridge()\n",
        "scaler_2 = MinMaxScaler()\n",
        "scaled = pd.DataFrame(scaler_2.fit_transform(df[['T2', 'T6']]), columns = ['T2', 'T6'])\n",
        "model_2.fit(scaled[['T2']], scaled[['T6']])\n",
        "model_2_pred = model_2.predict(scaled[['T2']])"
      ],
      "execution_count": 16,
      "outputs": []
    },
    {
      "cell_type": "code",
      "metadata": {
        "id": "D2_vbFhS2vNl",
        "colab_type": "code",
        "colab": {}
      },
      "source": [
        ""
      ],
      "execution_count": null,
      "outputs": []
    },
    {
      "cell_type": "code",
      "metadata": {
        "id": "RQiJ4eL50K5k",
        "colab_type": "code",
        "colab": {
          "base_uri": "https://localhost:8080/",
          "height": 34
        },
        "outputId": "4433e254-b466-4392-ae14-3e44e4811f7f"
      },
      "source": [
        "r2_value = round(r2_score(scaled['T6'], model_2_pred), 2)\n",
        "r2_value"
      ],
      "execution_count": 10,
      "outputs": [
        {
          "output_type": "execute_result",
          "data": {
            "text/plain": [
              "0.64"
            ]
          },
          "metadata": {
            "tags": []
          },
          "execution_count": 10
        }
      ]
    },
    {
      "cell_type": "markdown",
      "metadata": {
        "id": "feZhECjq0K5q",
        "colab_type": "text"
      },
      "source": [
        "### Question 13"
      ]
    },
    {
      "cell_type": "code",
      "metadata": {
        "id": "s5TblLwv0K5r",
        "colab_type": "code",
        "colab": {
          "base_uri": "https://localhost:8080/",
          "height": 34
        },
        "outputId": "03285970-136e-4147-e686-b9d92dfdec02"
      },
      "source": [
        "mean_absolute_error = round(mae(scaled['T6'], model_2_pred), 2)\n",
        "mean_absolute_error"
      ],
      "execution_count": 11,
      "outputs": [
        {
          "output_type": "execute_result",
          "data": {
            "text/plain": [
              "0.08"
            ]
          },
          "metadata": {
            "tags": []
          },
          "execution_count": 11
        }
      ]
    },
    {
      "cell_type": "markdown",
      "metadata": {
        "id": "UPQK-edg0K50",
        "colab_type": "text"
      },
      "source": [
        "### Question 14"
      ]
    },
    {
      "cell_type": "code",
      "metadata": {
        "id": "NfXW2W1J0K51",
        "colab_type": "code",
        "colab": {
          "base_uri": "https://localhost:8080/",
          "height": 34
        },
        "outputId": "92701df9-0a83-47be-f77c-2b2bfa4526a1"
      },
      "source": [
        "residual_sum_of_squares = round(np.sum(np.square(model_2_pred.reshape(-1) - scaled.T6)), 2)\n",
        "residual_sum_of_squares"
      ],
      "execution_count": 18,
      "outputs": [
        {
          "output_type": "execute_result",
          "data": {
            "text/plain": [
              "222.09"
            ]
          },
          "metadata": {
            "tags": []
          },
          "execution_count": 18
        }
      ]
    },
    {
      "cell_type": "markdown",
      "metadata": {
        "id": "SnDYbc5A0K57",
        "colab_type": "text"
      },
      "source": [
        "### Question 17 on root_mean squre "
      ]
    },
    {
      "cell_type": "code",
      "metadata": {
        "id": "FzNakzzD0K58",
        "colab_type": "code",
        "colab": {
          "base_uri": "https://localhost:8080/",
          "height": 34
        },
        "outputId": "bedf06e2-c2f7-4a26-be7e-d9e31c62c970"
      },
      "source": [
        "root_mean_square_model_2 = round(np.sqrt(mse(scaled['T6'] , model_2_pred)), 3)\n",
        "root_mean_square_model_2"
      ],
      "execution_count": 20,
      "outputs": [
        {
          "output_type": "execute_result",
          "data": {
            "text/plain": [
              "0.106"
            ]
          },
          "metadata": {
            "tags": []
          },
          "execution_count": 20
        }
      ]
    },
    {
      "cell_type": "code",
      "metadata": {
        "id": "e1sCCKXJ0K6E",
        "colab_type": "code",
        "colab": {}
      },
      "source": [
        ""
      ],
      "execution_count": null,
      "outputs": []
    },
    {
      "cell_type": "markdown",
      "metadata": {
        "id": "PMYDgs2M5gau",
        "colab_type": "text"
      },
      "source": [
        "LASSO TRAINING"
      ]
    },
    {
      "cell_type": "code",
      "metadata": {
        "id": "otYlz5ZQ5TLm",
        "colab_type": "code",
        "colab": {
          "base_uri": "https://localhost:8080/",
          "height": 123
        },
        "outputId": "4ef2198d-4511-4542-c468-38e68ad818d4"
      },
      "source": [
        "lasso_model= Lasso(alpha = 0.001)\n",
        "lasso_model.fit(X_train, y_train)\n",
        "lasso_model.coef_"
      ],
      "execution_count": 23,
      "outputs": [
        {
          "output_type": "execute_result",
          "data": {
            "text/plain": [
              "array([ 0.        ,  0.01787993,  0.        , -0.        ,  0.        ,\n",
              "        0.        , -0.        ,  0.        , -0.        ,  0.        ,\n",
              "        0.        , -0.        , -0.        , -0.        ,  0.        ,\n",
              "       -0.00011004, -0.        , -0.        ,  0.        , -0.        ,\n",
              "       -0.04955749,  0.00291176,  0.        ,  0.        , -0.        ,\n",
              "       -0.        ])"
            ]
          },
          "metadata": {
            "tags": []
          },
          "execution_count": 23
        }
      ]
    },
    {
      "cell_type": "markdown",
      "metadata": {
        "id": "xuA7MQfA6nkk",
        "colab_type": "text"
      },
      "source": [
        "LASSO PREDICTION"
      ]
    },
    {
      "cell_type": "code",
      "metadata": {
        "id": "sB9p9-Vz6mxN",
        "colab_type": "code",
        "colab": {}
      },
      "source": [
        "lasso_pred = lasso_model.predict(X_test)"
      ],
      "execution_count": 27,
      "outputs": []
    },
    {
      "cell_type": "code",
      "metadata": {
        "id": "yiSzSD_T5aT9",
        "colab_type": "code",
        "colab": {
          "base_uri": "https://localhost:8080/",
          "height": 34
        },
        "outputId": "862f0a60-42be-4dc4-e309-d4edd2a179e3"
      },
      "source": [
        "round(np.sqrt(mse(y_test, lasso_pred)), 3)"
      ],
      "execution_count": 29,
      "outputs": [
        {
          "output_type": "execute_result",
          "data": {
            "text/plain": [
              "0.094"
            ]
          },
          "metadata": {
            "tags": []
          },
          "execution_count": 29
        }
      ]
    },
    {
      "cell_type": "code",
      "metadata": {
        "id": "B3CUxzPh7zwR",
        "colab_type": "code",
        "colab": {}
      },
      "source": [
        ""
      ],
      "execution_count": null,
      "outputs": []
    }
  ]
}